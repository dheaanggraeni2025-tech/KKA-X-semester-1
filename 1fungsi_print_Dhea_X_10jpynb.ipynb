{
  "nbformat": 4,
  "nbformat_minor": 0,
  "metadata": {
    "colab": {
      "provenance": [],
      "authorship_tag": "ABX9TyN9Iq0sZApeYsxFU/iBU6Wp",
      "include_colab_link": true
    },
    "kernelspec": {
      "name": "python3",
      "display_name": "Python 3"
    },
    "language_info": {
      "name": "python"
    }
  },
  "cells": [
    {
      "cell_type": "markdown",
      "metadata": {
        "id": "view-in-github",
        "colab_type": "text"
      },
      "source": [
        "<a href=\"https://colab.research.google.com/github/dheaanggraeni2025-tech/KKA-X-semester-1/blob/main/1fungsi_print_Dhea_X_10jpynb.ipynb\" target=\"_parent\"><img src=\"https://colab.research.google.com/assets/colab-badge.svg\" alt=\"Open In Colab\"/></a>"
      ]
    },
    {
      "cell_type": "markdown",
      "source": [
        "#Teks bebas"
      ],
      "metadata": {
        "id": "OEMvhbGHOtNz"
      }
    },
    {
      "cell_type": "code",
      "execution_count": null,
      "metadata": {
        "colab": {
          "base_uri": "https://localhost:8080/"
        },
        "id": "yLAmXcrywI_c",
        "outputId": "c33b9b63-4c23-4230-c376-da0e2e121507"
      },
      "outputs": [
        {
          "output_type": "stream",
          "name": "stdout",
          "text": [
            "ruyanti Dhea anggraeni\n"
          ]
        }
      ],
      "source": [
        "print(\"ruyanti Dhea anggraeni\")"
      ]
    },
    {
      "cell_type": "markdown",
      "source": [
        "#Menampilkan nilai variabel"
      ],
      "metadata": {
        "id": "8WQZe8KhOSV6"
      }
    },
    {
      "cell_type": "code",
      "source": [
        "usia = 15\n",
        "print(usia)"
      ],
      "metadata": {
        "colab": {
          "base_uri": "https://localhost:8080/"
        },
        "id": "Ym4gk3pk3u2Q",
        "outputId": "e0edce50-3512-4fad-e1d8-f1129b40519b"
      },
      "execution_count": null,
      "outputs": [
        {
          "output_type": "stream",
          "name": "stdout",
          "text": [
            "15\n"
          ]
        }
      ]
    },
    {
      "cell_type": "code",
      "source": [
        "print(\"hwang inyeop\")"
      ],
      "metadata": {
        "colab": {
          "base_uri": "https://localhost:8080/"
        },
        "id": "SEJCjJUvwcMm",
        "outputId": "d226e390-c82e-4328-beb7-b506175e89ec"
      },
      "execution_count": null,
      "outputs": [
        {
          "output_type": "stream",
          "name": "stdout",
          "text": [
            "hwang inyeop\n"
          ]
        }
      ]
    },
    {
      "cell_type": "code",
      "source": [
        "namaSaudara= \"pujiati dzakiyah talita\"\n",
        "print(namaSaudara)"
      ],
      "metadata": {
        "colab": {
          "base_uri": "https://localhost:8080/"
        },
        "id": "0K8lRyn-xzrp",
        "outputId": "f356e9af-fe1a-4e6d-9d50-8de83143d089"
      },
      "execution_count": null,
      "outputs": [
        {
          "output_type": "stream",
          "name": "stdout",
          "text": [
            "pujiati dzakiyah talita\n"
          ]
        }
      ]
    },
    {
      "cell_type": "code",
      "source": [
        "mataPelajaranFavorit=\"FISIKA\"\n",
        "print(mataPelajaranFavorit)"
      ],
      "metadata": {
        "colab": {
          "base_uri": "https://localhost:8080/"
        },
        "id": "UGreeaj_yC68",
        "outputId": "ab1f8d5b-e96e-4d63-886f-a771ce989fc5"
      },
      "execution_count": null,
      "outputs": [
        {
          "output_type": "stream",
          "name": "stdout",
          "text": [
            "FISIKA\n"
          ]
        }
      ]
    },
    {
      "cell_type": "markdown",
      "source": [
        "#menampilkan teks bebas dan nilai variabel"
      ],
      "metadata": {
        "id": "E9dtd_Z8PUX7"
      }
    },
    {
      "cell_type": "code",
      "source": [
        "print(\"Nama saudara:\" + namaSaudara)"
      ],
      "metadata": {
        "colab": {
          "base_uri": "https://localhost:8080/"
        },
        "id": "ZCAsdOk5yVOz",
        "outputId": "529fa7cb-a3c4-4f15-a047-1c558abf4cad"
      },
      "execution_count": null,
      "outputs": [
        {
          "output_type": "stream",
          "name": "stdout",
          "text": [
            "Nama saudara:pujiati dzakiyah talita\n"
          ]
        }
      ]
    },
    {
      "cell_type": "code",
      "source": [
        "print(pa\"Mata pelajaran favorit:\" + mataPelajaranFavorit)"
      ],
      "metadata": {
        "colab": {
          "base_uri": "https://localhost:8080/"
        },
        "id": "FkeVK3s2y687",
        "outputId": "ba9a80cb-9af3-45e8-bc3d-740b30e4fb5a"
      },
      "execution_count": null,
      "outputs": [
        {
          "output_type": "stream",
          "name": "stdout",
          "text": [
            "Mata pelajaran favorit:FISIKA\n"
          ]
        }
      ]
    },
    {
      "cell_type": "code",
      "source": [
        "namaSaudara = \"Talita\"\n",
        "print(\"Nama saudara: \" + namaSaudara)"
      ],
      "metadata": {
        "colab": {
          "base_uri": "https://localhost:8080/"
        },
        "id": "ve4BgaAa4JNY",
        "outputId": "1dfa1cfc-440f-47cb-ce2d-7f71b2e9b702"
      },
      "execution_count": null,
      "outputs": [
        {
          "output_type": "stream",
          "name": "stdout",
          "text": [
            "Nama saudara: Talita\n"
          ]
        }
      ]
    },
    {
      "cell_type": "code",
      "source": [
        "nama_panggilan_siswa = \"Dhea\"\n",
        "print(\"nama panggilan siswa tersebut adalah\", nama_panggilan_siswa)"
      ],
      "metadata": {
        "colab": {
          "base_uri": "https://localhost:8080/"
        },
        "id": "GtqKlOek7OOb",
        "outputId": "f1e3f06b-a892-4190-c240-95936dd15736"
      },
      "execution_count": null,
      "outputs": [
        {
          "output_type": "stream",
          "name": "stdout",
          "text": [
            "nama panggilan siswa tersebut adalah Dhea\n"
          ]
        }
      ]
    },
    {
      "cell_type": "markdown",
      "source": [
        "#escape character"
      ],
      "metadata": {
        "id": "Qft-eXZdQJ_Y"
      }
    },
    {
      "cell_type": "code",
      "source": [
        "print(\"Nama: Ruyanti Dhea Anggraeni\")\n",
        "print(\"Kelas: X. 10\")\n",
        "print(\"No absen: 30\")"
      ],
      "metadata": {
        "colab": {
          "base_uri": "https://localhost:8080/"
        },
        "id": "Hy-_Sfq-8Mf7",
        "outputId": "8b70850b-9e50-4c31-819d-a4ad396a1155"
      },
      "execution_count": null,
      "outputs": [
        {
          "output_type": "stream",
          "name": "stdout",
          "text": [
            "Nama: Ruyanti Dhea Anggraeni\n",
            "Kelas: X. 10\n",
            "No absen: 30\n"
          ]
        }
      ]
    },
    {
      "cell_type": "code",
      "source": [
        "print(f\"nama panggilan siswa tersebut adalah {nama_panggilan_siswa} loh!\")"
      ],
      "metadata": {
        "colab": {
          "base_uri": "https://localhost:8080/"
        },
        "id": "q5hnZihX7xUf",
        "outputId": "727ac581-56c4-4955-9748-e93c69f8a61e"
      },
      "execution_count": null,
      "outputs": [
        {
          "output_type": "stream",
          "name": "stdout",
          "text": [
            "nama panggilan siswa tersebut adalah Dhea loh!\n"
          ]
        }
      ]
    },
    {
      "cell_type": "code",
      "source": [
        "print(\"Nama\\t\\t: Ruyanti Dhea Anggraeni\\nKelas\\t\\t:X.10\\nNo absen\\t: 30\")"
      ],
      "metadata": {
        "colab": {
          "base_uri": "https://localhost:8080/"
        },
        "id": "P-n0of4C8rHh",
        "outputId": "f3c0da24-2759-4a21-d753-6c2558a66278"
      },
      "execution_count": null,
      "outputs": [
        {
          "output_type": "stream",
          "name": "stdout",
          "text": [
            "Nama\t\t: Ruyanti Dhea Anggraeni\n",
            "Kelas\t\t:X.10\n",
            "No absen\t: 30\n"
          ]
        }
      ]
    },
    {
      "cell_type": "code",
      "source": [
        "print(\"\"\"Nama: Ruyanti Dhea Anggraeni\n",
        "Kelas: X.10\n",
        "No absen: 30\"\"\")"
      ],
      "metadata": {
        "colab": {
          "base_uri": "https://localhost:8080/"
        },
        "id": "GlRnlh4a9ImF",
        "outputId": "e6a25643-7739-4f8d-96a7-841949ed05f3"
      },
      "execution_count": null,
      "outputs": [
        {
          "output_type": "stream",
          "name": "stdout",
          "text": [
            "Nama: Ruyanti Dhea Anggraeni\n",
            "Kelas: X.10\n",
            "No absen: 30\n"
          ]
        }
      ]
    },
    {
      "cell_type": "code",
      "source": [
        "nama = \"Ruyanti DA\"\n",
        "usia = 15"
      ],
      "metadata": {
        "id": "1SHXzEox-LNu"
      },
      "execution_count": null,
      "outputs": []
    },
    {
      "cell_type": "code",
      "source": [
        "print(f\"Halo nama saya {nama}. Usia saya {usia} tahun\")"
      ],
      "metadata": {
        "colab": {
          "base_uri": "https://localhost:8080/"
        },
        "id": "6U2Jt5bU-jQv",
        "outputId": "9a5d2bfb-d9ad-481e-c2c3-b4377876bf4c"
      },
      "execution_count": null,
      "outputs": [
        {
          "output_type": "stream",
          "name": "stdout",
          "text": [
            "Halo nama saya Ruyanti DA. Usia saya 15 tahun\n"
          ]
        }
      ]
    },
    {
      "cell_type": "code",
      "source": [
        "print(\"Nama\\t\\t: Ruyanti DA\\nKelas\\t\\t:X.10\\nNo absen\\t: 30\")"
      ],
      "metadata": {
        "colab": {
          "base_uri": "https://localhost:8080/"
        },
        "id": "96sLeijf-_Ow",
        "outputId": "0ee17aed-39b4-4665-d620-6bfe6332fefc"
      },
      "execution_count": null,
      "outputs": [
        {
          "output_type": "stream",
          "name": "stdout",
          "text": [
            "Nama\t\t: Ruyanti DA\n",
            "Kelas\t\t:X.10\n",
            "No absen\t: 30\n"
          ]
        }
      ]
    },
    {
      "cell_type": "code",
      "source": [
        "print(\"Bu Shinta berkata,\\\"Makan sosis so nice\\\"\")"
      ],
      "metadata": {
        "colab": {
          "base_uri": "https://localhost:8080/"
        },
        "id": "uRBojP-76M8y",
        "outputId": "4a957d44-8272-41fe-f24a-8d2ed66c509b"
      },
      "execution_count": null,
      "outputs": [
        {
          "output_type": "stream",
          "name": "stdout",
          "text": [
            "Bu Shinta berkata,\"Makan sosis so nice\"\n"
          ]
        }
      ]
    },
    {
      "cell_type": "code",
      "source": [
        "print('Bu Shinta berkata, \"Makan sosis so nice\"')"
      ],
      "metadata": {
        "colab": {
          "base_uri": "https://localhost:8080/"
        },
        "id": "GF4wa4I26tMA",
        "outputId": "c95b5f12-0c2e-453c-da68-d209afabbc39"
      },
      "execution_count": null,
      "outputs": [
        {
          "output_type": "stream",
          "name": "stdout",
          "text": [
            "Bu Shinta berkata, \"Makan sosis so nice\"\n"
          ]
        }
      ]
    },
    {
      "cell_type": "code",
      "source": [
        "print(\"Simpan file di local disk D:\\\\MAN DEMAK\\\\KKA\")"
      ],
      "metadata": {
        "colab": {
          "base_uri": "https://localhost:8080/"
        },
        "id": "FrdW2alf7ATH",
        "outputId": "18cc8735-05cd-49c3-db49-dbd8b7f56a98"
      },
      "execution_count": null,
      "outputs": [
        {
          "output_type": "stream",
          "name": "stdout",
          "text": [
            "Simpan file di local disk D:\\MAN DEMAK\\KKA\n"
          ]
        }
      ]
    },
    {
      "cell_type": "markdown",
      "source": [
        "#parameter fungsi print"
      ],
      "metadata": {
        "id": "_kZmi8XjQnvT"
      }
    },
    {
      "cell_type": "code",
      "source": [
        "nama_siswa_1=\"dhea\"\n",
        "print(nama_siswa_1)"
      ],
      "metadata": {
        "colab": {
          "base_uri": "https://localhost:8080/"
        },
        "id": "Ss8poqcVHQyT",
        "outputId": "dbe0edb8-5b3d-45f8-c9c0-e1a9b30329e0"
      },
      "execution_count": null,
      "outputs": [
        {
          "output_type": "stream",
          "name": "stdout",
          "text": [
            "dhea\n"
          ]
        }
      ]
    },
    {
      "cell_type": "code",
      "source": [
        "nama_siswa_2=\"rintan\"\n",
        "print(nama_siswa_2)"
      ],
      "metadata": {
        "colab": {
          "base_uri": "https://localhost:8080/"
        },
        "id": "xcRLJQv_IKaB",
        "outputId": "921b78b2-4059-42c3-9633-f99758699e3a"
      },
      "execution_count": null,
      "outputs": [
        {
          "output_type": "stream",
          "name": "stdout",
          "text": [
            "rintan\n"
          ]
        }
      ]
    },
    {
      "cell_type": "code",
      "source": [
        "print(nama_siswa_1, nama_siswa_2)"
      ],
      "metadata": {
        "colab": {
          "base_uri": "https://localhost:8080/"
        },
        "id": "0l9W_BzJIVxU",
        "outputId": "bb1f4d74-1252-4001-bf15-a83efdd968f8"
      },
      "execution_count": null,
      "outputs": [
        {
          "output_type": "stream",
          "name": "stdout",
          "text": [
            "dhea rintan\n"
          ]
        }
      ]
    },
    {
      "cell_type": "code",
      "source": [
        "print(nama_siswa_1, nama_siswa_2,sep="
      ],
      "metadata": {
        "id": "0UPhG7mIJRGS"
      },
      "execution_count": null,
      "outputs": []
    },
    {
      "cell_type": "code",
      "source": [
        "print(nama_siswa_1,nama_siswa_2, sep=\"_\")"
      ],
      "metadata": {
        "colab": {
          "base_uri": "https://localhost:8080/"
        },
        "id": "5kMrO8HHIp_M",
        "outputId": "42ea7013-9819-47ae-c7a1-1ae4919e517d"
      },
      "execution_count": null,
      "outputs": [
        {
          "output_type": "stream",
          "name": "stdout",
          "text": [
            "dhea_rintan\n"
          ]
        }
      ]
    },
    {
      "cell_type": "code",
      "source": [
        "print(nama_siswa_1,nama_siswa_2, nama_siswa_2 ,sep=\"*\")"
      ],
      "metadata": {
        "colab": {
          "base_uri": "https://localhost:8080/"
        },
        "id": "QoJZfAJXJw7l",
        "outputId": "08a57305-bb23-4399-8576-6b5ce21c11d9"
      },
      "execution_count": null,
      "outputs": [
        {
          "output_type": "stream",
          "name": "stdout",
          "text": [
            "dhea*rintan*rintan\n"
          ]
        }
      ]
    },
    {
      "cell_type": "code",
      "source": [],
      "metadata": {
        "id": "xOz4nYp33SHx"
      },
      "execution_count": null,
      "outputs": []
    },
    {
      "cell_type": "code",
      "source": [],
      "metadata": {
        "id": "66mwI3Am3S3x"
      },
      "execution_count": null,
      "outputs": []
    }
  ]
}